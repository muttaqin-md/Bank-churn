{
 "cells": [
  {
   "cell_type": "code",
   "execution_count": 3,
   "id": "f74a2c8e",
   "metadata": {},
   "outputs": [
    {
     "name": "stdout",
     "output_type": "stream",
     "text": [
      "Requirement already satisfied: catboost in d:\\projects\\bank_churn\\venv\\lib\\site-packages (1.2.2)\n",
      "Requirement already satisfied: graphviz in d:\\projects\\bank_churn\\venv\\lib\\site-packages (from catboost) (0.20.1)\n",
      "Requirement already satisfied: matplotlib in d:\\projects\\bank_churn\\venv\\lib\\site-packages (from catboost) (3.7.4)\n",
      "Requirement already satisfied: numpy>=1.16.0 in d:\\projects\\bank_churn\\venv\\lib\\site-packages (from catboost) (1.24.4)\n",
      "Requirement already satisfied: pandas>=0.24 in d:\\projects\\bank_churn\\venv\\lib\\site-packages (from catboost) (2.0.3)\n",
      "Requirement already satisfied: scipy in d:\\projects\\bank_churn\\venv\\lib\\site-packages (from catboost) (1.10.1)\n",
      "Requirement already satisfied: plotly in d:\\projects\\bank_churn\\venv\\lib\\site-packages (from catboost) (5.18.0)\n",
      "Requirement already satisfied: six in d:\\projects\\bank_churn\\venv\\lib\\site-packages (from catboost) (1.16.0)\n",
      "Requirement already satisfied: python-dateutil>=2.8.2 in d:\\projects\\bank_churn\\venv\\lib\\site-packages (from pandas>=0.24->catboost) (2.8.2)\n",
      "Requirement already satisfied: pytz>=2020.1 in d:\\projects\\bank_churn\\venv\\lib\\site-packages (from pandas>=0.24->catboost) (2024.1)\n",
      "Requirement already satisfied: tzdata>=2022.1 in d:\\projects\\bank_churn\\venv\\lib\\site-packages (from pandas>=0.24->catboost) (2024.1)\n",
      "Requirement already satisfied: contourpy>=1.0.1 in d:\\projects\\bank_churn\\venv\\lib\\site-packages (from matplotlib->catboost) (1.1.1)\n",
      "Requirement already satisfied: cycler>=0.10 in d:\\projects\\bank_churn\\venv\\lib\\site-packages (from matplotlib->catboost) (0.12.1)\n",
      "Requirement already satisfied: fonttools>=4.22.0 in d:\\projects\\bank_churn\\venv\\lib\\site-packages (from matplotlib->catboost) (4.48.1)\n",
      "Requirement already satisfied: kiwisolver>=1.0.1 in d:\\projects\\bank_churn\\venv\\lib\\site-packages (from matplotlib->catboost) (1.4.5)\n",
      "Requirement already satisfied: packaging>=20.0 in d:\\projects\\bank_churn\\venv\\lib\\site-packages (from matplotlib->catboost) (23.1)\n",
      "Requirement already satisfied: pillow>=6.2.0 in d:\\projects\\bank_churn\\venv\\lib\\site-packages (from matplotlib->catboost) (10.2.0)\n",
      "Requirement already satisfied: pyparsing>=2.3.1 in d:\\projects\\bank_churn\\venv\\lib\\site-packages (from matplotlib->catboost) (3.1.1)\n",
      "Requirement already satisfied: importlib-resources>=3.2.0 in d:\\projects\\bank_churn\\venv\\lib\\site-packages (from matplotlib->catboost) (6.1.1)\n",
      "Requirement already satisfied: tenacity>=6.2.0 in d:\\projects\\bank_churn\\venv\\lib\\site-packages (from plotly->catboost) (8.2.3)\n",
      "Requirement already satisfied: zipp>=3.1.0 in d:\\projects\\bank_churn\\venv\\lib\\site-packages (from importlib-resources>=3.2.0->matplotlib->catboost) (3.17.0)\n",
      "Collecting category_encoders\n",
      "  Downloading category_encoders-2.6.3-py2.py3-none-any.whl.metadata (8.0 kB)\n",
      "Requirement already satisfied: numpy>=1.14.0 in d:\\projects\\bank_churn\\venv\\lib\\site-packages (from category_encoders) (1.24.4)\n",
      "Requirement already satisfied: scikit-learn>=0.20.0 in d:\\projects\\bank_churn\\venv\\lib\\site-packages (from category_encoders) (1.3.2)\n",
      "Requirement already satisfied: scipy>=1.0.0 in d:\\projects\\bank_churn\\venv\\lib\\site-packages (from category_encoders) (1.10.1)\n",
      "Collecting statsmodels>=0.9.0 (from category_encoders)\n",
      "  Downloading statsmodels-0.14.1-cp38-cp38-win_amd64.whl.metadata (9.8 kB)\n",
      "Requirement already satisfied: pandas>=1.0.5 in d:\\projects\\bank_churn\\venv\\lib\\site-packages (from category_encoders) (2.0.3)\n",
      "Collecting patsy>=0.5.1 (from category_encoders)\n",
      "  Downloading patsy-0.5.6-py2.py3-none-any.whl.metadata (3.5 kB)\n",
      "Requirement already satisfied: importlib-resources in d:\\projects\\bank_churn\\venv\\lib\\site-packages (from category_encoders) (6.1.1)\n",
      "Requirement already satisfied: python-dateutil>=2.8.2 in d:\\projects\\bank_churn\\venv\\lib\\site-packages (from pandas>=1.0.5->category_encoders) (2.8.2)\n",
      "Requirement already satisfied: pytz>=2020.1 in d:\\projects\\bank_churn\\venv\\lib\\site-packages (from pandas>=1.0.5->category_encoders) (2024.1)\n",
      "Requirement already satisfied: tzdata>=2022.1 in d:\\projects\\bank_churn\\venv\\lib\\site-packages (from pandas>=1.0.5->category_encoders) (2024.1)\n",
      "Requirement already satisfied: six in d:\\projects\\bank_churn\\venv\\lib\\site-packages (from patsy>=0.5.1->category_encoders) (1.16.0)\n",
      "Requirement already satisfied: joblib>=1.1.1 in d:\\projects\\bank_churn\\venv\\lib\\site-packages (from scikit-learn>=0.20.0->category_encoders) (1.3.2)\n",
      "Requirement already satisfied: threadpoolctl>=2.0.0 in d:\\projects\\bank_churn\\venv\\lib\\site-packages (from scikit-learn>=0.20.0->category_encoders) (3.2.0)\n",
      "Requirement already satisfied: packaging>=21.3 in d:\\projects\\bank_churn\\venv\\lib\\site-packages (from statsmodels>=0.9.0->category_encoders) (23.1)\n",
      "Requirement already satisfied: zipp>=3.1.0 in d:\\projects\\bank_churn\\venv\\lib\\site-packages (from importlib-resources->category_encoders) (3.17.0)\n",
      "Downloading category_encoders-2.6.3-py2.py3-none-any.whl (81 kB)\n",
      "   ---------------------------------------- 0.0/81.9 kB ? eta -:--:--\n",
      "   --------------- ------------------------ 30.7/81.9 kB 660.6 kB/s eta 0:00:01\n",
      "   ---------------------------------------- 81.9/81.9 kB 1.2 MB/s eta 0:00:00\n",
      "Downloading patsy-0.5.6-py2.py3-none-any.whl (233 kB)\n",
      "   ---------------------------------------- 0.0/233.9 kB ? eta -:--:--\n",
      "   ---------------------------------------- 233.9/233.9 kB 4.8 MB/s eta 0:00:00\n",
      "Downloading statsmodels-0.14.1-cp38-cp38-win_amd64.whl (10.0 MB)\n",
      "   ---------------------------------------- 0.0/10.0 MB ? eta -:--:--\n",
      "   -- ------------------------------------- 0.6/10.0 MB 11.8 MB/s eta 0:00:01\n",
      "   ---- ----------------------------------- 1.0/10.0 MB 11.0 MB/s eta 0:00:01\n",
      "   ---- ----------------------------------- 1.0/10.0 MB 11.0 MB/s eta 0:00:01\n",
      "   ---- ----------------------------------- 1.0/10.0 MB 11.0 MB/s eta 0:00:01\n",
      "   ---- ----------------------------------- 1.0/10.0 MB 11.0 MB/s eta 0:00:01\n",
      "   ---- ----------------------------------- 1.0/10.0 MB 11.0 MB/s eta 0:00:01\n",
      "   ---- ----------------------------------- 1.1/10.0 MB 3.3 MB/s eta 0:00:03\n",
      "   ------ --------------------------------- 1.6/10.0 MB 4.7 MB/s eta 0:00:02\n",
      "   ------ --------------------------------- 1.6/10.0 MB 4.7 MB/s eta 0:00:02\n",
      "   ------ --------------------------------- 1.6/10.0 MB 4.7 MB/s eta 0:00:02\n",
      "   -------- ------------------------------- 2.1/10.0 MB 4.2 MB/s eta 0:00:02\n",
      "   -------- ------------------------------- 2.2/10.0 MB 4.0 MB/s eta 0:00:02\n",
      "   ------------ --------------------------- 3.1/10.0 MB 5.1 MB/s eta 0:00:02\n",
      "   ------------ --------------------------- 3.1/10.0 MB 5.1 MB/s eta 0:00:02\n",
      "   ------------ --------------------------- 3.1/10.0 MB 5.1 MB/s eta 0:00:02\n",
      "   ------------ --------------------------- 3.1/10.0 MB 5.1 MB/s eta 0:00:02\n",
      "   ------------ --------------------------- 3.1/10.0 MB 5.1 MB/s eta 0:00:02\n",
      "   ------------ --------------------------- 3.1/10.0 MB 5.1 MB/s eta 0:00:02\n",
      "   ------------ --------------------------- 3.2/10.0 MB 3.6 MB/s eta 0:00:02\n",
      "   ---------------- ----------------------- 4.2/10.0 MB 4.5 MB/s eta 0:00:02\n",
      "   ---------------- ----------------------- 4.2/10.0 MB 4.5 MB/s eta 0:00:02\n",
      "   ---------------- ----------------------- 4.2/10.0 MB 4.5 MB/s eta 0:00:02\n",
      "   ---------------- ----------------------- 4.2/10.0 MB 4.5 MB/s eta 0:00:02\n",
      "   ------------------ --------------------- 4.6/10.0 MB 4.1 MB/s eta 0:00:02\n",
      "   -------------------- ------------------- 5.2/10.0 MB 4.6 MB/s eta 0:00:02\n",
      "   -------------------- ------------------- 5.2/10.0 MB 4.6 MB/s eta 0:00:02\n",
      "   -------------------- ------------------- 5.2/10.0 MB 4.6 MB/s eta 0:00:02\n",
      "   -------------------- ------------------- 5.2/10.0 MB 4.6 MB/s eta 0:00:02\n",
      "   -------------------- ------------------- 5.2/10.0 MB 4.6 MB/s eta 0:00:02\n",
      "   ------------------------ --------------- 6.0/10.0 MB 4.3 MB/s eta 0:00:01\n",
      "   ------------------------- -------------- 6.3/10.0 MB 4.5 MB/s eta 0:00:01\n",
      "   ------------------------- -------------- 6.3/10.0 MB 4.5 MB/s eta 0:00:01\n",
      "   ------------------------- -------------- 6.3/10.0 MB 4.5 MB/s eta 0:00:01\n",
      "   ------------------------- -------------- 6.3/10.0 MB 4.5 MB/s eta 0:00:01\n",
      "   ------------------------- -------------- 6.3/10.0 MB 4.5 MB/s eta 0:00:01\n",
      "   ------------------------- -------------- 6.4/10.0 MB 3.8 MB/s eta 0:00:01\n",
      "   ----------------------------- ---------- 7.3/10.0 MB 4.2 MB/s eta 0:00:01\n",
      "   ----------------------------- ---------- 7.3/10.0 MB 4.2 MB/s eta 0:00:01\n",
      "   ----------------------------- ---------- 7.3/10.0 MB 4.2 MB/s eta 0:00:01\n",
      "   ----------------------------- ---------- 7.3/10.0 MB 4.2 MB/s eta 0:00:01\n",
      "   --------------------------------- ------ 8.4/10.0 MB 4.2 MB/s eta 0:00:01\n",
      "   --------------------------------- ------ 8.4/10.0 MB 4.2 MB/s eta 0:00:01\n",
      "   --------------------------------- ------ 8.4/10.0 MB 4.2 MB/s eta 0:00:01\n",
      "   --------------------------------- ------ 8.4/10.0 MB 4.2 MB/s eta 0:00:01\n",
      "   --------------------------------- ------ 8.4/10.0 MB 4.2 MB/s eta 0:00:01\n",
      "   --------------------------------- ------ 8.4/10.0 MB 4.2 MB/s eta 0:00:01\n",
      "   ---------------------------------- ----- 8.6/10.0 MB 3.8 MB/s eta 0:00:01\n",
      "   ------------------------------------- -- 9.4/10.0 MB 4.1 MB/s eta 0:00:01\n",
      "   ------------------------------------- -- 9.4/10.0 MB 4.1 MB/s eta 0:00:01\n",
      "   ------------------------------------- -- 9.4/10.0 MB 4.1 MB/s eta 0:00:01\n",
      "   ------------------------------------- -- 9.4/10.0 MB 4.1 MB/s eta 0:00:01\n",
      "   -------------------------------------- - 9.6/10.0 MB 3.8 MB/s eta 0:00:01\n",
      "   ---------------------------------------- 10.0/10.0 MB 3.9 MB/s eta 0:00:00\n",
      "Installing collected packages: patsy, statsmodels, category_encoders\n",
      "Successfully installed category_encoders-2.6.3 patsy-0.5.6 statsmodels-0.14.1\n"
     ]
    }
   ],
   "source": [
    "# For data manipulation\n",
    "import numpy as np\n",
    "import pandas as pd\n",
    "\n",
    "# For OS module\n",
    "import os\n",
    "\n",
    "# For data visualization\n",
    "import matplotlib.pyplot as plt\n",
    "import seaborn as sns\n",
    "\n",
    "# For statistics\n",
    "from scipy import stats\n",
    "#import statsmodels.api as sm\n",
    "from scipy.stats import ttest_ind\n",
    "from scipy.stats import boxcox\n",
    "import math\n",
    "#from statsmodels.stats.outliers_influence import variance_inflation_factor\n",
    "\n",
    "# For displaying all of the columns in dataframes\n",
    "pd.set_option('display.max_columns', None)\n",
    "\n",
    "# For data modeling\n",
    "from xgboost import XGBClassifier\n",
    "from xgboost import XGBRegressor\n",
    "from xgboost import plot_importance\n",
    "\n",
    "from sklearn.linear_model import LogisticRegression\n",
    "from sklearn.tree import DecisionTreeClassifier\n",
    "from sklearn.ensemble import RandomForestClassifier\n",
    "!pip install catboost\n",
    "from catboost import CatBoost, CatBoostRegressor, CatBoostClassifier\n",
    "\n",
    "\n",
    "\n",
    "# For metrics and helpful functions\n",
    "from sklearn.preprocessing import LabelEncoder, StandardScaler, MinMaxScaler,PowerTransformer, FunctionTransformer\n",
    "from sklearn.model_selection import GridSearchCV, RandomizedSearchCV, train_test_split\n",
    "from sklearn.model_selection import StratifiedKFold, KFold, PredefinedSplit\n",
    "from sklearn.metrics import accuracy_score, precision_score, recall_score,\\\n",
    "f1_score, confusion_matrix, ConfusionMatrixDisplay, confusion_matrix, classification_report\n",
    "from sklearn.metrics import roc_auc_score, roc_curve, RocCurveDisplay, PrecisionRecallDisplay\n",
    "from sklearn.tree import plot_tree\n",
    "from sklearn.inspection import permutation_importance\n",
    "from sklearn.impute import SimpleImputer\n",
    "from sklearn.feature_extraction.text import TfidfVectorizer\n",
    "from sklearn.decomposition import PCA\n",
    "import re\n",
    "\n",
    "#!pip install -U imbalanced-learn\n",
    "#from imblearn.under_sampling import RandomUnderSampler\n",
    "#from imblearn.ensemble import BalancedRandomForestClassifier\n",
    "\n",
    "!pip install category_encoders\n",
    "from category_encoders import OneHotEncoder, OrdinalEncoder, CountEncoder, CatBoostEncoder\n",
    "\n",
    "from catboost import Pool\n",
    "\n",
    "# For saving models\n",
    "import pickle\n",
    "# Suppress warnings\n",
    "import warnings\n",
    "warnings.filterwarnings(\"ignore\")"
   ]
  },
  {
   "cell_type": "code",
   "execution_count": 2,
   "id": "63fc1575",
   "metadata": {},
   "outputs": [
    {
     "data": {
      "text/html": [
       "<div>\n",
       "<style scoped>\n",
       "    .dataframe tbody tr th:only-of-type {\n",
       "        vertical-align: middle;\n",
       "    }\n",
       "\n",
       "    .dataframe tbody tr th {\n",
       "        vertical-align: top;\n",
       "    }\n",
       "\n",
       "    .dataframe thead th {\n",
       "        text-align: right;\n",
       "    }\n",
       "</style>\n",
       "<table border=\"1\" class=\"dataframe\">\n",
       "  <thead>\n",
       "    <tr style=\"text-align: right;\">\n",
       "      <th></th>\n",
       "      <th>RowNumber</th>\n",
       "      <th>CustomerId</th>\n",
       "      <th>Surname</th>\n",
       "      <th>CreditScore</th>\n",
       "      <th>Geography</th>\n",
       "      <th>Gender</th>\n",
       "      <th>Age</th>\n",
       "      <th>Tenure</th>\n",
       "      <th>Balance</th>\n",
       "      <th>NumOfProducts</th>\n",
       "      <th>HasCrCard</th>\n",
       "      <th>IsActiveMember</th>\n",
       "      <th>EstimatedSalary</th>\n",
       "      <th>Exited</th>\n",
       "    </tr>\n",
       "  </thead>\n",
       "  <tbody>\n",
       "    <tr>\n",
       "      <th>0</th>\n",
       "      <td>1</td>\n",
       "      <td>15634602</td>\n",
       "      <td>Hargrave</td>\n",
       "      <td>619</td>\n",
       "      <td>France</td>\n",
       "      <td>Female</td>\n",
       "      <td>42</td>\n",
       "      <td>2</td>\n",
       "      <td>0.00</td>\n",
       "      <td>1</td>\n",
       "      <td>1</td>\n",
       "      <td>1</td>\n",
       "      <td>101348.88</td>\n",
       "      <td>1</td>\n",
       "    </tr>\n",
       "    <tr>\n",
       "      <th>1</th>\n",
       "      <td>2</td>\n",
       "      <td>15647311</td>\n",
       "      <td>Hill</td>\n",
       "      <td>608</td>\n",
       "      <td>Spain</td>\n",
       "      <td>Female</td>\n",
       "      <td>41</td>\n",
       "      <td>1</td>\n",
       "      <td>83807.86</td>\n",
       "      <td>1</td>\n",
       "      <td>0</td>\n",
       "      <td>1</td>\n",
       "      <td>112542.58</td>\n",
       "      <td>0</td>\n",
       "    </tr>\n",
       "    <tr>\n",
       "      <th>2</th>\n",
       "      <td>3</td>\n",
       "      <td>15619304</td>\n",
       "      <td>Onio</td>\n",
       "      <td>502</td>\n",
       "      <td>France</td>\n",
       "      <td>Female</td>\n",
       "      <td>42</td>\n",
       "      <td>8</td>\n",
       "      <td>159660.80</td>\n",
       "      <td>3</td>\n",
       "      <td>1</td>\n",
       "      <td>0</td>\n",
       "      <td>113931.57</td>\n",
       "      <td>1</td>\n",
       "    </tr>\n",
       "    <tr>\n",
       "      <th>3</th>\n",
       "      <td>4</td>\n",
       "      <td>15701354</td>\n",
       "      <td>Boni</td>\n",
       "      <td>699</td>\n",
       "      <td>France</td>\n",
       "      <td>Female</td>\n",
       "      <td>39</td>\n",
       "      <td>1</td>\n",
       "      <td>0.00</td>\n",
       "      <td>2</td>\n",
       "      <td>0</td>\n",
       "      <td>0</td>\n",
       "      <td>93826.63</td>\n",
       "      <td>0</td>\n",
       "    </tr>\n",
       "    <tr>\n",
       "      <th>4</th>\n",
       "      <td>5</td>\n",
       "      <td>15737888</td>\n",
       "      <td>Mitchell</td>\n",
       "      <td>850</td>\n",
       "      <td>Spain</td>\n",
       "      <td>Female</td>\n",
       "      <td>43</td>\n",
       "      <td>2</td>\n",
       "      <td>125510.82</td>\n",
       "      <td>1</td>\n",
       "      <td>1</td>\n",
       "      <td>1</td>\n",
       "      <td>79084.10</td>\n",
       "      <td>0</td>\n",
       "    </tr>\n",
       "  </tbody>\n",
       "</table>\n",
       "</div>"
      ],
      "text/plain": [
       "   RowNumber  CustomerId   Surname  CreditScore Geography  Gender  Age  \\\n",
       "0          1    15634602  Hargrave          619    France  Female   42   \n",
       "1          2    15647311      Hill          608     Spain  Female   41   \n",
       "2          3    15619304      Onio          502    France  Female   42   \n",
       "3          4    15701354      Boni          699    France  Female   39   \n",
       "4          5    15737888  Mitchell          850     Spain  Female   43   \n",
       "\n",
       "   Tenure    Balance  NumOfProducts  HasCrCard  IsActiveMember  \\\n",
       "0       2       0.00              1          1               1   \n",
       "1       1   83807.86              1          0               1   \n",
       "2       8  159660.80              3          1               0   \n",
       "3       1       0.00              2          0               0   \n",
       "4       2  125510.82              1          1               1   \n",
       "\n",
       "   EstimatedSalary  Exited  \n",
       "0        101348.88       1  \n",
       "1        112542.58       0  \n",
       "2        113931.57       1  \n",
       "3         93826.63       0  \n",
       "4         79084.10       0  "
      ]
     },
     "execution_count": 2,
     "metadata": {},
     "output_type": "execute_result"
    }
   ],
   "source": [
    "file = 'Churn_Modelling.csv'\n",
    "df_original = pd.read_csv(file)\n",
    "df_original.head()"
   ]
  },
  {
   "cell_type": "code",
   "execution_count": 3,
   "id": "01a7acef",
   "metadata": {},
   "outputs": [
    {
     "data": {
      "text/plain": [
       "0    7963\n",
       "1    2037\n",
       "Name: Exited, dtype: int64"
      ]
     },
     "execution_count": 3,
     "metadata": {},
     "output_type": "execute_result"
    }
   ],
   "source": [
    "# Check class balance\n",
    "df_original['Exited'].value_counts()"
   ]
  },
  {
   "cell_type": "markdown",
   "id": "6cc42f70",
   "metadata": {},
   "source": [
    "## Select an evaluation metric  \n",
    "\n",
    "The data contains 10,000 observations, and the class distribution is approximately 80/20. \n",
    "\n",
    "Since we have some imbalance in our target classes, we know that if we measure model performance by accuracy alone, the model could predict 0 (no churn) 100% of the time and have an accuracy of ~80%. An accuracy of 80% might seem pretty good, but we know in this case it would be meaningless, because our model would fail to identify anybody who churned. Therefore, accuracy is not the best metric to use to evaluate our model's performance.  \n",
    "\n",
    "To determine which evaluation metric might be best, consider how our model might be wrong. There are two possibilities for bad predictions: \n",
    "  \n",
    "  - **False positives:** When the model predicts a customer **will** churn when in fact they won't\n",
    "  - **False negatives:** When the model predicts a customer will **not** churn when in fact they will     \n",
    "\n",
    "As we all know, there are a number of performance metrics aside from accuracy to choose from. Some of these include precision, recall, and F1 score. Let's examine these more closely, beginning with _precision:_\n",
    "\n",
    "$$precision = \\frac{\\text{TP}}{\\text{FP+TP}}$$\n",
    "  </br> \n",
    "\n",
    "And _recall:_ \n",
    "\n",
    "$$recall = \\frac{\\text{TP}}{\\text{FN+TP}}$$  \n",
    "  </br>"
   ]
  },
  {
   "cell_type": "markdown",
   "id": "0ea31c4e",
   "metadata": {},
   "source": [
    "recision represents the percentage of all our model's predicted positives that are true positives. This might not be the best metric for us to use, because it disincentivizes predicting someone will churn unless there is a high degree of certainty that they will. This could translate to a high rate of false negatives.\n",
    "\n",
    "On the other hand, recall represents the percentage of all actual positives that the model identifies as such. This also might not be the best metric to use, because it rewards predicting someone will churn even if the likelihood of their doing so is very small. This could translate to a high rate of false positives.\n",
    "\n",
    "So which is worse, false positives or false negatives? Well, we'd first have to define what _worse_ means. This is dependent on the details of the project that you're working on. Let us suppose that we're defining it as the error that would cost the bank more money.\n",
    "\n",
    "We can quickly get an idea of how much money each customer who churns costs the bank by calculating the average balance of all customers who churned."
   ]
  },
  {
   "cell_type": "code",
   "execution_count": 4,
   "id": "c955fb7d",
   "metadata": {},
   "outputs": [
    {
     "data": {
      "text/plain": [
       "91108.53933726063"
      ]
     },
     "execution_count": 4,
     "metadata": {},
     "output_type": "execute_result"
    }
   ],
   "source": [
    "# Calculate average balance of customers who churned\n",
    "avg_churned_bal = df_original[df_original['Exited']==1]['Balance'].mean()\n",
    "avg_churned_bal"
   ]
  },
  {
   "cell_type": "markdown",
   "id": "1b721425",
   "metadata": {},
   "source": [
    "This shows that the customers who churned each took with them $91,108.54, on average. That's a lot of money! This represents the average cost of the model predicting a false negative. \n",
    "\n",
    "What's the cost of predicting a false positive? Well, it's the cost of whatever the incentive might be to convince someone to stay with the bank when they were going to stay regardless of whether or not they were incentived. We don't have a number for this, and even if it's probably less than $91,108.54, it still could be thousands of Dollars per customer in lost revenue, depending on the details of the incentive. "
   ]
  },
  {
   "cell_type": "markdown",
   "id": "9206c4e0",
   "metadata": {},
   "source": [
    "Since correctly identifying customers who will churn is potentially very valuable, we *could* select recall as our most important metric. This might be a perfectly valid approach, depending on the specifics of the campaign. But this could also be problematic. After all, if we select a model based solely on recall, we could select a very biased model that predicts everyone to churn, but then 8,000 people would be given incentives needlessly.  \n",
    "\n",
    "Since we don't know the exact cost of predicting a false negative, we'll make an assumption. We'll assume that a metric that balances precision and recall is best. The metric that helps us achieve this balance is _F1 score_, which is defined as the harmonic mean of precision and recall. \n",
    "\n",
    "$${F_{1}} = 2 \\cdot \\frac{precision \\cdot  recall}{precision + recall}$$  \n",
    "</br>"
   ]
  },
  {
   "cell_type": "markdown",
   "id": "fc378ce1",
   "metadata": {},
   "source": [
    "## Feature engineering"
   ]
  },
  {
   "cell_type": "markdown",
   "id": "b2858b2d",
   "metadata": {},
   "source": [
    "### Feature selection\n",
    "\n",
    "We begin by dropping the columns that we wouldn't expect to offer any predictive signal to the model. These columns include `RowNumber`, `CustomerID`, and `Surname`. We'll drop these columns so they don't introduce noise to our model.  \n",
    "\n",
    "We'll also drop the `Gender` column, because we don't want our model to make predictions based on gender."
   ]
  },
  {
   "cell_type": "code",
   "execution_count": 5,
   "id": "ddedfd9c",
   "metadata": {},
   "outputs": [],
   "source": [
    "# Create a new df that drops RowNumber, CustomerId, Surname, and Gender cols\n",
    "churn_df = df_original.drop(['RowNumber', 'CustomerId', 'Surname',  'Gender'], \n",
    "                            axis=1)"
   ]
  },
  {
   "cell_type": "code",
   "execution_count": 6,
   "id": "c0458fe6",
   "metadata": {},
   "outputs": [
    {
     "data": {
      "text/html": [
       "<div>\n",
       "<style scoped>\n",
       "    .dataframe tbody tr th:only-of-type {\n",
       "        vertical-align: middle;\n",
       "    }\n",
       "\n",
       "    .dataframe tbody tr th {\n",
       "        vertical-align: top;\n",
       "    }\n",
       "\n",
       "    .dataframe thead th {\n",
       "        text-align: right;\n",
       "    }\n",
       "</style>\n",
       "<table border=\"1\" class=\"dataframe\">\n",
       "  <thead>\n",
       "    <tr style=\"text-align: right;\">\n",
       "      <th></th>\n",
       "      <th>CreditScore</th>\n",
       "      <th>Geography</th>\n",
       "      <th>Age</th>\n",
       "      <th>Tenure</th>\n",
       "      <th>Balance</th>\n",
       "      <th>NumOfProducts</th>\n",
       "      <th>HasCrCard</th>\n",
       "      <th>IsActiveMember</th>\n",
       "      <th>EstimatedSalary</th>\n",
       "      <th>Exited</th>\n",
       "    </tr>\n",
       "  </thead>\n",
       "  <tbody>\n",
       "    <tr>\n",
       "      <th>0</th>\n",
       "      <td>619</td>\n",
       "      <td>France</td>\n",
       "      <td>42</td>\n",
       "      <td>2</td>\n",
       "      <td>0.00</td>\n",
       "      <td>1</td>\n",
       "      <td>1</td>\n",
       "      <td>1</td>\n",
       "      <td>101348.88</td>\n",
       "      <td>1</td>\n",
       "    </tr>\n",
       "    <tr>\n",
       "      <th>1</th>\n",
       "      <td>608</td>\n",
       "      <td>Spain</td>\n",
       "      <td>41</td>\n",
       "      <td>1</td>\n",
       "      <td>83807.86</td>\n",
       "      <td>1</td>\n",
       "      <td>0</td>\n",
       "      <td>1</td>\n",
       "      <td>112542.58</td>\n",
       "      <td>0</td>\n",
       "    </tr>\n",
       "    <tr>\n",
       "      <th>2</th>\n",
       "      <td>502</td>\n",
       "      <td>France</td>\n",
       "      <td>42</td>\n",
       "      <td>8</td>\n",
       "      <td>159660.80</td>\n",
       "      <td>3</td>\n",
       "      <td>1</td>\n",
       "      <td>0</td>\n",
       "      <td>113931.57</td>\n",
       "      <td>1</td>\n",
       "    </tr>\n",
       "    <tr>\n",
       "      <th>3</th>\n",
       "      <td>699</td>\n",
       "      <td>France</td>\n",
       "      <td>39</td>\n",
       "      <td>1</td>\n",
       "      <td>0.00</td>\n",
       "      <td>2</td>\n",
       "      <td>0</td>\n",
       "      <td>0</td>\n",
       "      <td>93826.63</td>\n",
       "      <td>0</td>\n",
       "    </tr>\n",
       "    <tr>\n",
       "      <th>4</th>\n",
       "      <td>850</td>\n",
       "      <td>Spain</td>\n",
       "      <td>43</td>\n",
       "      <td>2</td>\n",
       "      <td>125510.82</td>\n",
       "      <td>1</td>\n",
       "      <td>1</td>\n",
       "      <td>1</td>\n",
       "      <td>79084.10</td>\n",
       "      <td>0</td>\n",
       "    </tr>\n",
       "  </tbody>\n",
       "</table>\n",
       "</div>"
      ],
      "text/plain": [
       "   CreditScore Geography  Age  Tenure    Balance  NumOfProducts  HasCrCard  \\\n",
       "0          619    France   42       2       0.00              1          1   \n",
       "1          608     Spain   41       1   83807.86              1          0   \n",
       "2          502    France   42       8  159660.80              3          1   \n",
       "3          699    France   39       1       0.00              2          0   \n",
       "4          850     Spain   43       2  125510.82              1          1   \n",
       "\n",
       "   IsActiveMember  EstimatedSalary  Exited  \n",
       "0               1        101348.88       1  \n",
       "1               1        112542.58       0  \n",
       "2               0        113931.57       1  \n",
       "3               0         93826.63       0  \n",
       "4               1         79084.10       0  "
      ]
     },
     "execution_count": 6,
     "metadata": {},
     "output_type": "execute_result"
    }
   ],
   "source": [
    "churn_df.head()"
   ]
  },
  {
   "cell_type": "markdown",
   "id": "c4a53831",
   "metadata": {},
   "source": [
    "### Feature Extraction"
   ]
  },
  {
   "cell_type": "markdown",
   "id": "a523aff0",
   "metadata": {},
   "source": [
    "Let's create a `Loyalty` feature that represents the percentage of each customer's life that they were customers. We can do this by dividing `Tenure` by `Age`:\n",
    "​\n",
    "$$\\text{Loyalty} = \\frac{\\text{Tenure}}{\\text{Age}}$$\n",
    "  </br> \n",
    "The intuition here is that people who have been customers for a greater proportion of their lives might be less likely to churn. "
   ]
  },
  {
   "cell_type": "code",
   "execution_count": 7,
   "id": "82df8001",
   "metadata": {},
   "outputs": [],
   "source": [
    "# Create Loyalty variable\n",
    "churn_df['Loyalty'] = churn_df['Tenure'] / churn_df['Age']"
   ]
  },
  {
   "cell_type": "code",
   "execution_count": 8,
   "id": "d0c1b7ce",
   "metadata": {},
   "outputs": [
    {
     "data": {
      "text/html": [
       "<div>\n",
       "<style scoped>\n",
       "    .dataframe tbody tr th:only-of-type {\n",
       "        vertical-align: middle;\n",
       "    }\n",
       "\n",
       "    .dataframe tbody tr th {\n",
       "        vertical-align: top;\n",
       "    }\n",
       "\n",
       "    .dataframe thead th {\n",
       "        text-align: right;\n",
       "    }\n",
       "</style>\n",
       "<table border=\"1\" class=\"dataframe\">\n",
       "  <thead>\n",
       "    <tr style=\"text-align: right;\">\n",
       "      <th></th>\n",
       "      <th>CreditScore</th>\n",
       "      <th>Geography</th>\n",
       "      <th>Age</th>\n",
       "      <th>Tenure</th>\n",
       "      <th>Balance</th>\n",
       "      <th>NumOfProducts</th>\n",
       "      <th>HasCrCard</th>\n",
       "      <th>IsActiveMember</th>\n",
       "      <th>EstimatedSalary</th>\n",
       "      <th>Exited</th>\n",
       "      <th>Loyalty</th>\n",
       "    </tr>\n",
       "  </thead>\n",
       "  <tbody>\n",
       "    <tr>\n",
       "      <th>0</th>\n",
       "      <td>619</td>\n",
       "      <td>France</td>\n",
       "      <td>42</td>\n",
       "      <td>2</td>\n",
       "      <td>0.00</td>\n",
       "      <td>1</td>\n",
       "      <td>1</td>\n",
       "      <td>1</td>\n",
       "      <td>101348.88</td>\n",
       "      <td>1</td>\n",
       "      <td>0.047619</td>\n",
       "    </tr>\n",
       "    <tr>\n",
       "      <th>1</th>\n",
       "      <td>608</td>\n",
       "      <td>Spain</td>\n",
       "      <td>41</td>\n",
       "      <td>1</td>\n",
       "      <td>83807.86</td>\n",
       "      <td>1</td>\n",
       "      <td>0</td>\n",
       "      <td>1</td>\n",
       "      <td>112542.58</td>\n",
       "      <td>0</td>\n",
       "      <td>0.024390</td>\n",
       "    </tr>\n",
       "    <tr>\n",
       "      <th>2</th>\n",
       "      <td>502</td>\n",
       "      <td>France</td>\n",
       "      <td>42</td>\n",
       "      <td>8</td>\n",
       "      <td>159660.80</td>\n",
       "      <td>3</td>\n",
       "      <td>1</td>\n",
       "      <td>0</td>\n",
       "      <td>113931.57</td>\n",
       "      <td>1</td>\n",
       "      <td>0.190476</td>\n",
       "    </tr>\n",
       "    <tr>\n",
       "      <th>3</th>\n",
       "      <td>699</td>\n",
       "      <td>France</td>\n",
       "      <td>39</td>\n",
       "      <td>1</td>\n",
       "      <td>0.00</td>\n",
       "      <td>2</td>\n",
       "      <td>0</td>\n",
       "      <td>0</td>\n",
       "      <td>93826.63</td>\n",
       "      <td>0</td>\n",
       "      <td>0.025641</td>\n",
       "    </tr>\n",
       "    <tr>\n",
       "      <th>4</th>\n",
       "      <td>850</td>\n",
       "      <td>Spain</td>\n",
       "      <td>43</td>\n",
       "      <td>2</td>\n",
       "      <td>125510.82</td>\n",
       "      <td>1</td>\n",
       "      <td>1</td>\n",
       "      <td>1</td>\n",
       "      <td>79084.10</td>\n",
       "      <td>0</td>\n",
       "      <td>0.046512</td>\n",
       "    </tr>\n",
       "  </tbody>\n",
       "</table>\n",
       "</div>"
      ],
      "text/plain": [
       "   CreditScore Geography  Age  Tenure    Balance  NumOfProducts  HasCrCard  \\\n",
       "0          619    France   42       2       0.00              1          1   \n",
       "1          608     Spain   41       1   83807.86              1          0   \n",
       "2          502    France   42       8  159660.80              3          1   \n",
       "3          699    France   39       1       0.00              2          0   \n",
       "4          850     Spain   43       2  125510.82              1          1   \n",
       "\n",
       "   IsActiveMember  EstimatedSalary  Exited   Loyalty  \n",
       "0               1        101348.88       1  0.047619  \n",
       "1               1        112542.58       0  0.024390  \n",
       "2               0        113931.57       1  0.190476  \n",
       "3               0         93826.63       0  0.025641  \n",
       "4               1         79084.10       0  0.046512  "
      ]
     },
     "execution_count": 8,
     "metadata": {},
     "output_type": "execute_result"
    }
   ],
   "source": [
    "churn_df.head()"
   ]
  },
  {
   "cell_type": "markdown",
   "id": "871ff1ad",
   "metadata": {},
   "source": [
    "### Feature transformation"
   ]
  },
  {
   "cell_type": "code",
   "execution_count": 9,
   "id": "d24d26eb",
   "metadata": {},
   "outputs": [],
   "source": [
    "# Dummy encode categorical variables\n",
    "churn_df = pd.get_dummies(churn_df, drop_first=True)"
   ]
  },
  {
   "cell_type": "code",
   "execution_count": 10,
   "id": "bfe82750",
   "metadata": {},
   "outputs": [
    {
     "data": {
      "text/html": [
       "<div>\n",
       "<style scoped>\n",
       "    .dataframe tbody tr th:only-of-type {\n",
       "        vertical-align: middle;\n",
       "    }\n",
       "\n",
       "    .dataframe tbody tr th {\n",
       "        vertical-align: top;\n",
       "    }\n",
       "\n",
       "    .dataframe thead th {\n",
       "        text-align: right;\n",
       "    }\n",
       "</style>\n",
       "<table border=\"1\" class=\"dataframe\">\n",
       "  <thead>\n",
       "    <tr style=\"text-align: right;\">\n",
       "      <th></th>\n",
       "      <th>CreditScore</th>\n",
       "      <th>Age</th>\n",
       "      <th>Tenure</th>\n",
       "      <th>Balance</th>\n",
       "      <th>NumOfProducts</th>\n",
       "      <th>HasCrCard</th>\n",
       "      <th>IsActiveMember</th>\n",
       "      <th>EstimatedSalary</th>\n",
       "      <th>Exited</th>\n",
       "      <th>Loyalty</th>\n",
       "      <th>Geography_Germany</th>\n",
       "      <th>Geography_Spain</th>\n",
       "    </tr>\n",
       "  </thead>\n",
       "  <tbody>\n",
       "    <tr>\n",
       "      <th>0</th>\n",
       "      <td>619</td>\n",
       "      <td>42</td>\n",
       "      <td>2</td>\n",
       "      <td>0.00</td>\n",
       "      <td>1</td>\n",
       "      <td>1</td>\n",
       "      <td>1</td>\n",
       "      <td>101348.88</td>\n",
       "      <td>1</td>\n",
       "      <td>0.047619</td>\n",
       "      <td>0</td>\n",
       "      <td>0</td>\n",
       "    </tr>\n",
       "    <tr>\n",
       "      <th>1</th>\n",
       "      <td>608</td>\n",
       "      <td>41</td>\n",
       "      <td>1</td>\n",
       "      <td>83807.86</td>\n",
       "      <td>1</td>\n",
       "      <td>0</td>\n",
       "      <td>1</td>\n",
       "      <td>112542.58</td>\n",
       "      <td>0</td>\n",
       "      <td>0.024390</td>\n",
       "      <td>0</td>\n",
       "      <td>1</td>\n",
       "    </tr>\n",
       "    <tr>\n",
       "      <th>2</th>\n",
       "      <td>502</td>\n",
       "      <td>42</td>\n",
       "      <td>8</td>\n",
       "      <td>159660.80</td>\n",
       "      <td>3</td>\n",
       "      <td>1</td>\n",
       "      <td>0</td>\n",
       "      <td>113931.57</td>\n",
       "      <td>1</td>\n",
       "      <td>0.190476</td>\n",
       "      <td>0</td>\n",
       "      <td>0</td>\n",
       "    </tr>\n",
       "    <tr>\n",
       "      <th>3</th>\n",
       "      <td>699</td>\n",
       "      <td>39</td>\n",
       "      <td>1</td>\n",
       "      <td>0.00</td>\n",
       "      <td>2</td>\n",
       "      <td>0</td>\n",
       "      <td>0</td>\n",
       "      <td>93826.63</td>\n",
       "      <td>0</td>\n",
       "      <td>0.025641</td>\n",
       "      <td>0</td>\n",
       "      <td>0</td>\n",
       "    </tr>\n",
       "    <tr>\n",
       "      <th>4</th>\n",
       "      <td>850</td>\n",
       "      <td>43</td>\n",
       "      <td>2</td>\n",
       "      <td>125510.82</td>\n",
       "      <td>1</td>\n",
       "      <td>1</td>\n",
       "      <td>1</td>\n",
       "      <td>79084.10</td>\n",
       "      <td>0</td>\n",
       "      <td>0.046512</td>\n",
       "      <td>0</td>\n",
       "      <td>1</td>\n",
       "    </tr>\n",
       "  </tbody>\n",
       "</table>\n",
       "</div>"
      ],
      "text/plain": [
       "   CreditScore  Age  Tenure    Balance  NumOfProducts  HasCrCard  \\\n",
       "0          619   42       2       0.00              1          1   \n",
       "1          608   41       1   83807.86              1          0   \n",
       "2          502   42       8  159660.80              3          1   \n",
       "3          699   39       1       0.00              2          0   \n",
       "4          850   43       2  125510.82              1          1   \n",
       "\n",
       "   IsActiveMember  EstimatedSalary  Exited   Loyalty  Geography_Germany  \\\n",
       "0               1        101348.88       1  0.047619                  0   \n",
       "1               1        112542.58       0  0.024390                  0   \n",
       "2               0        113931.57       1  0.190476                  0   \n",
       "3               0         93826.63       0  0.025641                  0   \n",
       "4               1         79084.10       0  0.046512                  0   \n",
       "\n",
       "   Geography_Spain  \n",
       "0                0  \n",
       "1                1  \n",
       "2                0  \n",
       "3                0  \n",
       "4                1  "
      ]
     },
     "execution_count": 10,
     "metadata": {},
     "output_type": "execute_result"
    }
   ],
   "source": [
    "churn_df.head()"
   ]
  },
  {
   "cell_type": "markdown",
   "id": "4f72c23a",
   "metadata": {},
   "source": [
    "### Split the data"
   ]
  },
  {
   "cell_type": "markdown",
   "id": "a56bf5fd",
   "metadata": {},
   "source": [
    "- Split the data 80/20 into an interim training set and a test set.\n",
    "- Split the interim training set 75/25 into a training set and a validation set, yielding a final ratio of 60/20/20 for training/validation/test sets. "
   ]
  },
  {
   "cell_type": "code",
   "execution_count": 11,
   "id": "279c918f",
   "metadata": {},
   "outputs": [],
   "source": [
    "# Define the y (target) variable\n",
    "y = churn_df['Exited']\n",
    "\n",
    "# Define the X (predictor) variables\n",
    "X = churn_df.copy()\n",
    "X = X.drop('Exited', axis=1)\n",
    "\n",
    "# Split into train and test sets\n",
    "X_tr, X_test, y_tr, y_test = train_test_split(X, y, stratify=y,\n",
    "                                              test_size=0.2, random_state=42)\n",
    "\n",
    "# Split into train and validate sets\n",
    "X_train, X_val, y_train, y_val = train_test_split(X_tr, y_tr, stratify=y_tr,\n",
    "                                                  test_size=0.25, random_state=42)"
   ]
  },
  {
   "cell_type": "code",
   "execution_count": 12,
   "id": "cac5b0c2",
   "metadata": {},
   "outputs": [
    {
     "name": "stdout",
     "output_type": "stream",
     "text": [
      "6000\n",
      "2000\n",
      "2000\n"
     ]
    }
   ],
   "source": [
    "for x in [X_train, X_val, X_test]:\n",
    "    print(len(x))"
   ]
  },
  {
   "cell_type": "markdown",
   "id": "9ef5f9d6",
   "metadata": {},
   "source": [
    "## Modeling"
   ]
  },
  {
   "cell_type": "markdown",
   "id": "07b50736",
   "metadata": {},
   "source": [
    "### Random Forest"
   ]
  },
  {
   "cell_type": "code",
   "execution_count": 13,
   "id": "ee64c8d6",
   "metadata": {},
   "outputs": [],
   "source": [
    "rf = RandomForestClassifier(random_state=42)\n",
    "\n",
    "cv_params = {'max_depth': [3,5, None], \n",
    "             'min_samples_leaf': [1,2,3],\n",
    "             'min_samples_split': [2,3,4],\n",
    "             'max_samples': [0.7, 1.0],\n",
    "             'max_features': [1,2,3,4],\n",
    "             'n_estimators': [100, 200, 300, 500]\n",
    "             }  \n",
    "\n",
    "scoring = {'accuracy', 'precision', 'recall', 'f1'}\n",
    "\n",
    "rf_cv = GridSearchCV(rf, cv_params, scoring=scoring, cv=5, refit='f1')"
   ]
  },
  {
   "cell_type": "code",
   "execution_count": 14,
   "id": "6eb0e566",
   "metadata": {},
   "outputs": [
    {
     "name": "stdout",
     "output_type": "stream",
     "text": [
      "Wall time: 32min 53s\n"
     ]
    },
    {
     "data": {
      "text/plain": [
       "GridSearchCV(cv=5, estimator=RandomForestClassifier(random_state=42),\n",
       "             param_grid={'max_depth': [3, 5, None],\n",
       "                         'max_features': [1, 2, 3, 4],\n",
       "                         'max_samples': [0.7, 1.0],\n",
       "                         'min_samples_leaf': [1, 2, 3],\n",
       "                         'min_samples_split': [2, 3, 4],\n",
       "                         'n_estimators': [100, 200, 300, 500]},\n",
       "             refit='f1', scoring={'f1', 'accuracy', 'precision', 'recall'})"
      ]
     },
     "execution_count": 14,
     "metadata": {},
     "output_type": "execute_result"
    }
   ],
   "source": [
    "%%time\n",
    "rf_cv.fit(X_train, y_train)"
   ]
  },
  {
   "cell_type": "code",
   "execution_count": 15,
   "id": "e41f6cca",
   "metadata": {},
   "outputs": [
    {
     "data": {
      "text/plain": [
       "'C:\\\\Users\\\\User\\\\ML Project'"
      ]
     },
     "execution_count": 15,
     "metadata": {},
     "output_type": "execute_result"
    }
   ],
   "source": [
    "os.getcwd()"
   ]
  },
  {
   "cell_type": "code",
   "execution_count": 16,
   "id": "9b50bc19",
   "metadata": {},
   "outputs": [],
   "source": [
    "path = r'C:/Users/User/ML Project/'"
   ]
  },
  {
   "cell_type": "code",
   "execution_count": 17,
   "id": "2dc8ca6e",
   "metadata": {},
   "outputs": [],
   "source": [
    "def write_pickle(path, model_object, save_as:str):\n",
    "\n",
    "    with open(path +  save_as + '.pickle', 'wb') as to_write:\n",
    "        pickle.dump(model_object, to_write)"
   ]
  },
  {
   "cell_type": "code",
   "execution_count": 18,
   "id": "41976dd6",
   "metadata": {},
   "outputs": [],
   "source": [
    "def read_pickle(path, saved_model_name:str):\n",
    "\n",
    "    with open(path + saved_model_name + '.pickle', 'rb') as to_read:\n",
    "        model = pickle.load(to_read)\n",
    "\n",
    "    return model"
   ]
  },
  {
   "cell_type": "code",
   "execution_count": 19,
   "id": "11aa01b7",
   "metadata": {},
   "outputs": [],
   "source": [
    "# Write pickle\n",
    "write_pickle(path, rf_cv, 'rf_cv_model')"
   ]
  },
  {
   "cell_type": "code",
   "execution_count": 20,
   "id": "b6194623",
   "metadata": {},
   "outputs": [],
   "source": [
    "# Read pickle\n",
    "rf_cv = read_pickle(path, 'rf_cv_model')"
   ]
  },
  {
   "cell_type": "code",
   "execution_count": 21,
   "id": "8f3ab95e",
   "metadata": {},
   "outputs": [
    {
     "data": {
      "text/plain": [
       "{'max_depth': None,\n",
       " 'max_features': 4,\n",
       " 'max_samples': 0.7,\n",
       " 'min_samples_leaf': 2,\n",
       " 'min_samples_split': 2,\n",
       " 'n_estimators': 300}"
      ]
     },
     "execution_count": 21,
     "metadata": {},
     "output_type": "execute_result"
    }
   ],
   "source": [
    "rf_cv.best_params_"
   ]
  },
  {
   "cell_type": "code",
   "execution_count": 22,
   "id": "7cc1263e",
   "metadata": {},
   "outputs": [
    {
     "data": {
      "text/plain": [
       "0.5771158706584545"
      ]
     },
     "execution_count": 22,
     "metadata": {},
     "output_type": "execute_result"
    }
   ],
   "source": [
    "rf_cv.best_score_"
   ]
  },
  {
   "cell_type": "code",
   "execution_count": 23,
   "id": "1b81bb88",
   "metadata": {},
   "outputs": [],
   "source": [
    "def make_results(model_name, model_object):\n",
    "\n",
    "\n",
    "    # Get all the results from the CV and put them in a df\n",
    "    cv_results = pd.DataFrame(model_object.cv_results_)\n",
    "\n",
    "    # Isolate the row of the df with the max(mean f1 score)\n",
    "    best_estimator_results = cv_results.iloc[cv_results['mean_test_f1'].idxmax(), :]\n",
    "\n",
    "    # Extract accuracy, precision, recall, and f1 score from that row\n",
    "    f1 = best_estimator_results.mean_test_f1\n",
    "    recall = best_estimator_results.mean_test_recall\n",
    "    precision = best_estimator_results.mean_test_precision\n",
    "    accuracy = best_estimator_results.mean_test_accuracy\n",
    "  \n",
    "    # Create table of results\n",
    "    table = pd.DataFrame()\n",
    "    table = table.append({'Model': model_name,\n",
    "                        'F1': f1,\n",
    "                        'Recall': recall,\n",
    "                        'Precision': precision,\n",
    "                        'Accuracy': accuracy\n",
    "                        },\n",
    "                        ignore_index=True\n",
    "                       )\n",
    "  \n",
    "    return table\n"
   ]
  },
  {
   "cell_type": "code",
   "execution_count": 24,
   "id": "f1f8154f",
   "metadata": {},
   "outputs": [
    {
     "data": {
      "text/html": [
       "<div>\n",
       "<style scoped>\n",
       "    .dataframe tbody tr th:only-of-type {\n",
       "        vertical-align: middle;\n",
       "    }\n",
       "\n",
       "    .dataframe tbody tr th {\n",
       "        vertical-align: top;\n",
       "    }\n",
       "\n",
       "    .dataframe thead th {\n",
       "        text-align: right;\n",
       "    }\n",
       "</style>\n",
       "<table border=\"1\" class=\"dataframe\">\n",
       "  <thead>\n",
       "    <tr style=\"text-align: right;\">\n",
       "      <th></th>\n",
       "      <th>Model</th>\n",
       "      <th>F1</th>\n",
       "      <th>Recall</th>\n",
       "      <th>Precision</th>\n",
       "      <th>Accuracy</th>\n",
       "    </tr>\n",
       "  </thead>\n",
       "  <tbody>\n",
       "    <tr>\n",
       "      <th>0</th>\n",
       "      <td>Random Forest CV</td>\n",
       "      <td>0.577116</td>\n",
       "      <td>0.459555</td>\n",
       "      <td>0.777705</td>\n",
       "      <td>0.863</td>\n",
       "    </tr>\n",
       "  </tbody>\n",
       "</table>\n",
       "</div>"
      ],
      "text/plain": [
       "              Model        F1    Recall  Precision  Accuracy\n",
       "0  Random Forest CV  0.577116  0.459555   0.777705     0.863"
      ]
     },
     "execution_count": 24,
     "metadata": {},
     "output_type": "execute_result"
    }
   ],
   "source": [
    "rf_cv_results = make_results('Random Forest CV', rf_cv)\n",
    "rf_cv_results"
   ]
  },
  {
   "cell_type": "markdown",
   "id": "2a748405",
   "metadata": {},
   "source": [
    "### XGBoost"
   ]
  },
  {
   "cell_type": "code",
   "execution_count": 25,
   "id": "528101d3",
   "metadata": {},
   "outputs": [],
   "source": [
    "xgb = XGBClassifier(objective='binary:logistic', random_state=42) \n",
    "\n",
    "cv_params = {'max_depth': [4,5,6,7,8], \n",
    "             'min_child_weight': [1,2,3,4,5],\n",
    "             'learning_rate': [0.1, 0.2, 0.3],\n",
    "             'n_estimators': [100, 200, 300, 500]\n",
    "             }    \n",
    "\n",
    "scoring = {'accuracy', 'precision', 'recall', 'f1'}\n",
    "\n",
    "xgb_cv = GridSearchCV(xgb, cv_params, scoring=scoring, cv=5, refit='f1')"
   ]
  },
  {
   "cell_type": "code",
   "execution_count": 26,
   "id": "ead42860",
   "metadata": {},
   "outputs": [
    {
     "name": "stdout",
     "output_type": "stream",
     "text": [
      "Wall time: 4min 45s\n"
     ]
    },
    {
     "data": {
      "text/plain": [
       "GridSearchCV(cv=5,\n",
       "             estimator=XGBClassifier(base_score=None, booster=None,\n",
       "                                     callbacks=None, colsample_bylevel=None,\n",
       "                                     colsample_bynode=None,\n",
       "                                     colsample_bytree=None, device=None,\n",
       "                                     early_stopping_rounds=None,\n",
       "                                     enable_categorical=False, eval_metric=None,\n",
       "                                     feature_types=None, gamma=None,\n",
       "                                     grow_policy=None, importance_type=None,\n",
       "                                     interaction_constraints=None,\n",
       "                                     learning_rate=None,...\n",
       "                                     max_leaves=None, min_child_weight=None,\n",
       "                                     missing=nan, monotone_constraints=None,\n",
       "                                     multi_strategy=None, n_estimators=None,\n",
       "                                     n_jobs=None, num_parallel_tree=None,\n",
       "                                     random_state=42, ...),\n",
       "             param_grid={'learning_rate': [0.1, 0.2, 0.3],\n",
       "                         'max_depth': [4, 5, 6, 7, 8],\n",
       "                         'min_child_weight': [1, 2, 3, 4, 5],\n",
       "                         'n_estimators': [100, 200, 300, 500]},\n",
       "             refit='f1', scoring={'f1', 'accuracy', 'precision', 'recall'})"
      ]
     },
     "execution_count": 26,
     "metadata": {},
     "output_type": "execute_result"
    }
   ],
   "source": [
    "%%time\n",
    "xgb_cv.fit(X_train, y_train)"
   ]
  },
  {
   "cell_type": "code",
   "execution_count": 27,
   "id": "3b79b0b2",
   "metadata": {},
   "outputs": [
    {
     "data": {
      "text/plain": [
       "0.5798687022447082"
      ]
     },
     "execution_count": 27,
     "metadata": {},
     "output_type": "execute_result"
    }
   ],
   "source": [
    "xgb_cv.best_score_"
   ]
  },
  {
   "cell_type": "code",
   "execution_count": 28,
   "id": "7f0ba43a",
   "metadata": {},
   "outputs": [
    {
     "data": {
      "text/plain": [
       "{'learning_rate': 0.2,\n",
       " 'max_depth': 4,\n",
       " 'min_child_weight': 4,\n",
       " 'n_estimators': 100}"
      ]
     },
     "execution_count": 28,
     "metadata": {},
     "output_type": "execute_result"
    }
   ],
   "source": [
    "xgb_cv.best_params_"
   ]
  },
  {
   "cell_type": "code",
   "execution_count": 29,
   "id": "c2538879",
   "metadata": {},
   "outputs": [],
   "source": [
    "# Write pickle\n",
    "write_pickle(path, xgb_cv, 'xgb_cv_model')"
   ]
  },
  {
   "cell_type": "code",
   "execution_count": 30,
   "id": "a21831d1",
   "metadata": {},
   "outputs": [],
   "source": [
    "# Read pickle\n",
    "xgb_cv = read_pickle(path, 'xgb_cv_model')"
   ]
  },
  {
   "cell_type": "code",
   "execution_count": 31,
   "id": "fb70ab4c",
   "metadata": {
    "scrolled": true
   },
   "outputs": [
    {
     "name": "stdout",
     "output_type": "stream",
     "text": [
      "F1 score random forest CV:  0.5771158706584545\n",
      "F1 score XGB CV:  0.5798687022447082\n"
     ]
    }
   ],
   "source": [
    "# Open pickled random forest model\n",
    "rf_cv = read_pickle(path, 'rf_cv_model')\n",
    "    \n",
    "#rf_cv.fit(X_train, y_train)\n",
    "\n",
    "print('F1 score random forest CV: ', rf_cv.best_score_)\n",
    "print('F1 score XGB CV: ', xgb_cv.best_score_)"
   ]
  },
  {
   "cell_type": "code",
   "execution_count": 32,
   "id": "2485af8c",
   "metadata": {},
   "outputs": [
    {
     "data": {
      "text/html": [
       "<div>\n",
       "<style scoped>\n",
       "    .dataframe tbody tr th:only-of-type {\n",
       "        vertical-align: middle;\n",
       "    }\n",
       "\n",
       "    .dataframe tbody tr th {\n",
       "        vertical-align: top;\n",
       "    }\n",
       "\n",
       "    .dataframe thead th {\n",
       "        text-align: right;\n",
       "    }\n",
       "</style>\n",
       "<table border=\"1\" class=\"dataframe\">\n",
       "  <thead>\n",
       "    <tr style=\"text-align: right;\">\n",
       "      <th></th>\n",
       "      <th>Model</th>\n",
       "      <th>F1</th>\n",
       "      <th>Recall</th>\n",
       "      <th>Precision</th>\n",
       "      <th>Accuracy</th>\n",
       "    </tr>\n",
       "  </thead>\n",
       "  <tbody>\n",
       "    <tr>\n",
       "      <th>0</th>\n",
       "      <td>XGBoost CV</td>\n",
       "      <td>0.579869</td>\n",
       "      <td>0.475122</td>\n",
       "      <td>0.745016</td>\n",
       "      <td>0.86</td>\n",
       "    </tr>\n",
       "  </tbody>\n",
       "</table>\n",
       "</div>"
      ],
      "text/plain": [
       "        Model        F1    Recall  Precision  Accuracy\n",
       "0  XGBoost CV  0.579869  0.475122   0.745016      0.86"
      ]
     },
     "execution_count": 32,
     "metadata": {},
     "output_type": "execute_result"
    }
   ],
   "source": [
    "xgb_cv_results = make_results('XGBoost CV', xgb_cv)\n",
    "xgb_cv_results"
   ]
  },
  {
   "cell_type": "code",
   "execution_count": 33,
   "id": "6a00d445",
   "metadata": {},
   "outputs": [
    {
     "data": {
      "text/html": [
       "<div>\n",
       "<style scoped>\n",
       "    .dataframe tbody tr th:only-of-type {\n",
       "        vertical-align: middle;\n",
       "    }\n",
       "\n",
       "    .dataframe tbody tr th {\n",
       "        vertical-align: top;\n",
       "    }\n",
       "\n",
       "    .dataframe thead th {\n",
       "        text-align: right;\n",
       "    }\n",
       "</style>\n",
       "<table border=\"1\" class=\"dataframe\">\n",
       "  <thead>\n",
       "    <tr style=\"text-align: right;\">\n",
       "      <th></th>\n",
       "      <th>Model</th>\n",
       "      <th>F1</th>\n",
       "      <th>Recall</th>\n",
       "      <th>Precision</th>\n",
       "      <th>Accuracy</th>\n",
       "    </tr>\n",
       "  </thead>\n",
       "  <tbody>\n",
       "    <tr>\n",
       "      <th>0</th>\n",
       "      <td>XGBoost CV</td>\n",
       "      <td>0.579869</td>\n",
       "      <td>0.475122</td>\n",
       "      <td>0.745016</td>\n",
       "      <td>0.860</td>\n",
       "    </tr>\n",
       "    <tr>\n",
       "      <th>0</th>\n",
       "      <td>Random Forest CV</td>\n",
       "      <td>0.577116</td>\n",
       "      <td>0.459555</td>\n",
       "      <td>0.777705</td>\n",
       "      <td>0.863</td>\n",
       "    </tr>\n",
       "  </tbody>\n",
       "</table>\n",
       "</div>"
      ],
      "text/plain": [
       "              Model        F1    Recall  Precision  Accuracy\n",
       "0        XGBoost CV  0.579869  0.475122   0.745016     0.860\n",
       "0  Random Forest CV  0.577116  0.459555   0.777705     0.863"
      ]
     },
     "execution_count": 33,
     "metadata": {},
     "output_type": "execute_result"
    }
   ],
   "source": [
    "# Create xgb model results table\n",
    "results_cv = pd.concat([xgb_cv_results, rf_cv_results]).sort_values(by=['F1'], \n",
    "                                                           ascending=False)\n",
    "results_cv"
   ]
  },
  {
   "cell_type": "markdown",
   "id": "c8c7c865",
   "metadata": {},
   "source": [
    "### Hyperparameters tuned with separate validation set"
   ]
  },
  {
   "cell_type": "markdown",
   "id": "8288f1b8",
   "metadata": {},
   "source": [
    "#### Random Forest"
   ]
  },
  {
   "cell_type": "code",
   "execution_count": 34,
   "id": "cea9d4a9",
   "metadata": {},
   "outputs": [],
   "source": [
    "# Split into train and validate sets\n",
    "#X_train, X_val, y_train, y_val = train_test_split(X_tr, y_tr, stratify=y_tr,test_size=0.25, random_state=42)"
   ]
  },
  {
   "cell_type": "markdown",
   "id": "fda37412",
   "metadata": {},
   "source": [
    "When we tune hyperparameters with `GridSearchCV` using a separate validation dataset, we have to take a few extra steps. `GridSearchCV` wants to cross-validate the data. In fact, if the `cv` argument were left blank, it would split the data into five folds for cross-validation by default. \n",
    "\n",
    "We don't want it to do this. Instead, we're going to tell it exactly which rows of `X_tr` are for training, and which rows are for validation. \n",
    "\n",
    "To do this, we need to make a list of length `len(X_tr)` where each element is either a 0 or -1. A 0 in index _i_ will indicate to `GridSearchCV` that index _i_ of `X_val` is to be held out for validation. A -1 at a given index will indicate that that index of `X_tr` is to be used as training data.\n",
    "\n",
    "We'll make this list using a list comprehension that looks at the index number of each row in `X_tr`. If that index number is in `X_val`'s list of index numbers, then the list comprehension appends a 0. If it's not, then it appends a -1.\n",
    "\n",
    "So if our training data is:  \n",
    "[A, B, C, D],  \n",
    "and our list is:   \n",
    "[-1, 0, 0, -1],  \n",
    "then `GridSearchCV` will use a training set of [A, D] and validation set of [B, C]."
   ]
  },
  {
   "cell_type": "code",
   "execution_count": 35,
   "id": "3761d74f",
   "metadata": {},
   "outputs": [],
   "source": [
    "# Create list of split indices\n",
    "split_index = [0 if x in X_val.index else -1 for x in X_tr.index]"
   ]
  },
  {
   "cell_type": "code",
   "execution_count": 36,
   "id": "ca3ee5d1",
   "metadata": {},
   "outputs": [],
   "source": [
    "rf = RandomForestClassifier(random_state=0)\n",
    "\n",
    "cv_params = {'max_depth': [3,5, None], \n",
    "             'min_samples_leaf': [1,2,3],\n",
    "             'min_samples_split': [2,3,4],\n",
    "             'max_samples': [0.7, 1.0],\n",
    "             'max_features': [1,2,3,4],\n",
    "             'n_estimators': [100, 200, 300, 500]\n",
    "             }  \n",
    "\n",
    "scoring = {'accuracy', 'precision', 'recall', 'f1'}\n",
    "\n",
    "custom_split = PredefinedSplit(split_index)\n",
    "\n",
    "rf_val = GridSearchCV(rf, cv_params, scoring=scoring, cv=custom_split, refit='f1')"
   ]
  },
  {
   "cell_type": "code",
   "execution_count": 37,
   "id": "3f0285d5",
   "metadata": {},
   "outputs": [
    {
     "name": "stdout",
     "output_type": "stream",
     "text": [
      "Wall time: 8min 4s\n"
     ]
    },
    {
     "data": {
      "text/plain": [
       "GridSearchCV(cv=PredefinedSplit(test_fold=array([-1,  0, ..., -1, -1])),\n",
       "             estimator=RandomForestClassifier(random_state=0),\n",
       "             param_grid={'max_depth': [3, 5, None],\n",
       "                         'max_features': [1, 2, 3, 4],\n",
       "                         'max_samples': [0.7, 1.0],\n",
       "                         'min_samples_leaf': [1, 2, 3],\n",
       "                         'min_samples_split': [2, 3, 4],\n",
       "                         'n_estimators': [100, 200, 300, 500]},\n",
       "             refit='f1', scoring={'f1', 'accuracy', 'precision', 'recall'})"
      ]
     },
     "execution_count": 37,
     "metadata": {},
     "output_type": "execute_result"
    }
   ],
   "source": [
    "%%time\n",
    "rf_val.fit(X_tr, y_tr)"
   ]
  },
  {
   "cell_type": "code",
   "execution_count": 38,
   "id": "dc81dd0a",
   "metadata": {},
   "outputs": [],
   "source": [
    "# Write pickle\n",
    "write_pickle(path, rf_val, 'rf_val_model')"
   ]
  },
  {
   "cell_type": "code",
   "execution_count": 39,
   "id": "bdf13bda",
   "metadata": {},
   "outputs": [],
   "source": [
    "# Read pickle\n",
    "rf_val = read_pickle(path, 'rf_val_model')"
   ]
  },
  {
   "cell_type": "code",
   "execution_count": 40,
   "id": "fa475181",
   "metadata": {},
   "outputs": [
    {
     "data": {
      "text/plain": [
       "{'max_depth': None,\n",
       " 'max_features': 4,\n",
       " 'max_samples': 1.0,\n",
       " 'min_samples_leaf': 2,\n",
       " 'min_samples_split': 2,\n",
       " 'n_estimators': 500}"
      ]
     },
     "execution_count": 40,
     "metadata": {},
     "output_type": "execute_result"
    }
   ],
   "source": [
    "rf_val.best_params_"
   ]
  },
  {
   "cell_type": "code",
   "execution_count": 41,
   "id": "c1941582",
   "metadata": {},
   "outputs": [
    {
     "data": {
      "text/html": [
       "<div>\n",
       "<style scoped>\n",
       "    .dataframe tbody tr th:only-of-type {\n",
       "        vertical-align: middle;\n",
       "    }\n",
       "\n",
       "    .dataframe tbody tr th {\n",
       "        vertical-align: top;\n",
       "    }\n",
       "\n",
       "    .dataframe thead th {\n",
       "        text-align: right;\n",
       "    }\n",
       "</style>\n",
       "<table border=\"1\" class=\"dataframe\">\n",
       "  <thead>\n",
       "    <tr style=\"text-align: right;\">\n",
       "      <th></th>\n",
       "      <th>Model</th>\n",
       "      <th>F1</th>\n",
       "      <th>Recall</th>\n",
       "      <th>Precision</th>\n",
       "      <th>Accuracy</th>\n",
       "    </tr>\n",
       "  </thead>\n",
       "  <tbody>\n",
       "    <tr>\n",
       "      <th>0</th>\n",
       "      <td>Random Forest Validated</td>\n",
       "      <td>0.600302</td>\n",
       "      <td>0.488943</td>\n",
       "      <td>0.777344</td>\n",
       "      <td>0.8675</td>\n",
       "    </tr>\n",
       "  </tbody>\n",
       "</table>\n",
       "</div>"
      ],
      "text/plain": [
       "                     Model        F1    Recall  Precision  Accuracy\n",
       "0  Random Forest Validated  0.600302  0.488943   0.777344    0.8675"
      ]
     },
     "execution_count": 41,
     "metadata": {},
     "output_type": "execute_result"
    }
   ],
   "source": [
    "# Create model results table\n",
    "rf_val_results = make_results('Random Forest Validated', rf_val)\n",
    "rf_val_results"
   ]
  },
  {
   "cell_type": "code",
   "execution_count": 42,
   "id": "4bf8a75f",
   "metadata": {},
   "outputs": [
    {
     "data": {
      "text/html": [
       "<div>\n",
       "<style scoped>\n",
       "    .dataframe tbody tr th:only-of-type {\n",
       "        vertical-align: middle;\n",
       "    }\n",
       "\n",
       "    .dataframe tbody tr th {\n",
       "        vertical-align: top;\n",
       "    }\n",
       "\n",
       "    .dataframe thead th {\n",
       "        text-align: right;\n",
       "    }\n",
       "</style>\n",
       "<table border=\"1\" class=\"dataframe\">\n",
       "  <thead>\n",
       "    <tr style=\"text-align: right;\">\n",
       "      <th></th>\n",
       "      <th>Model</th>\n",
       "      <th>F1</th>\n",
       "      <th>Recall</th>\n",
       "      <th>Precision</th>\n",
       "      <th>Accuracy</th>\n",
       "    </tr>\n",
       "  </thead>\n",
       "  <tbody>\n",
       "    <tr>\n",
       "      <th>0</th>\n",
       "      <td>Random Forest Validated</td>\n",
       "      <td>0.600302</td>\n",
       "      <td>0.488943</td>\n",
       "      <td>0.777344</td>\n",
       "      <td>0.8675</td>\n",
       "    </tr>\n",
       "    <tr>\n",
       "      <th>0</th>\n",
       "      <td>XGBoost CV</td>\n",
       "      <td>0.579869</td>\n",
       "      <td>0.475122</td>\n",
       "      <td>0.745016</td>\n",
       "      <td>0.8600</td>\n",
       "    </tr>\n",
       "    <tr>\n",
       "      <th>0</th>\n",
       "      <td>Random Forest CV</td>\n",
       "      <td>0.577116</td>\n",
       "      <td>0.459555</td>\n",
       "      <td>0.777705</td>\n",
       "      <td>0.8630</td>\n",
       "    </tr>\n",
       "  </tbody>\n",
       "</table>\n",
       "</div>"
      ],
      "text/plain": [
       "                     Model        F1    Recall  Precision  Accuracy\n",
       "0  Random Forest Validated  0.600302  0.488943   0.777344    0.8675\n",
       "0               XGBoost CV  0.579869  0.475122   0.745016    0.8600\n",
       "0         Random Forest CV  0.577116  0.459555   0.777705    0.8630"
      ]
     },
     "execution_count": 42,
     "metadata": {},
     "output_type": "execute_result"
    }
   ],
   "source": [
    "results_val = pd.concat([rf_val_results, results_cv]).sort_values(by=['F1'], \n",
    "                                                           ascending=False)\n",
    "results_val"
   ]
  },
  {
   "cell_type": "markdown",
   "id": "9ab10883",
   "metadata": {},
   "source": [
    "#### XGBoost"
   ]
  },
  {
   "cell_type": "code",
   "execution_count": 43,
   "id": "0fa04c93",
   "metadata": {},
   "outputs": [],
   "source": [
    "xgb = XGBClassifier(objective='binary:logistic', random_state=42) \n",
    "\n",
    "cv_params = {'max_depth': [4,5,6,7,8], \n",
    "             'min_child_weight': [1,2,3,4,5],\n",
    "             'learning_rate': [0.1, 0.2, 0.3],\n",
    "             'n_estimators': [100, 200, 300, 500]\n",
    "             }    \n",
    "\n",
    "scoring = {'accuracy', 'precision', 'recall', 'f1'}\n",
    "\n",
    "xgb_val = GridSearchCV(xgb, cv_params, scoring=scoring, cv=custom_split, refit='f1')"
   ]
  },
  {
   "cell_type": "code",
   "execution_count": 44,
   "id": "f45130a3",
   "metadata": {},
   "outputs": [
    {
     "name": "stdout",
     "output_type": "stream",
     "text": [
      "Wall time: 56.5 s\n"
     ]
    },
    {
     "data": {
      "text/plain": [
       "GridSearchCV(cv=PredefinedSplit(test_fold=array([-1,  0, ..., -1, -1])),\n",
       "             estimator=XGBClassifier(base_score=None, booster=None,\n",
       "                                     callbacks=None, colsample_bylevel=None,\n",
       "                                     colsample_bynode=None,\n",
       "                                     colsample_bytree=None, device=None,\n",
       "                                     early_stopping_rounds=None,\n",
       "                                     enable_categorical=False, eval_metric=None,\n",
       "                                     feature_types=None, gamma=None,\n",
       "                                     grow_policy=None, importance_type=None...\n",
       "                                     max_leaves=None, min_child_weight=None,\n",
       "                                     missing=nan, monotone_constraints=None,\n",
       "                                     multi_strategy=None, n_estimators=None,\n",
       "                                     n_jobs=None, num_parallel_tree=None,\n",
       "                                     random_state=42, ...),\n",
       "             param_grid={'learning_rate': [0.1, 0.2, 0.3],\n",
       "                         'max_depth': [4, 5, 6, 7, 8],\n",
       "                         'min_child_weight': [1, 2, 3, 4, 5],\n",
       "                         'n_estimators': [100, 200, 300, 500]},\n",
       "             refit='f1', scoring={'f1', 'accuracy', 'precision', 'recall'})"
      ]
     },
     "execution_count": 44,
     "metadata": {},
     "output_type": "execute_result"
    }
   ],
   "source": [
    "%%time\n",
    "xgb_val.fit(X_tr, y_tr)"
   ]
  },
  {
   "cell_type": "code",
   "execution_count": 45,
   "id": "7197e7ef",
   "metadata": {},
   "outputs": [],
   "source": [
    "# Write pickle\n",
    "write_pickle(path, xgb_val, 'xgb_val_model')"
   ]
  },
  {
   "cell_type": "code",
   "execution_count": 46,
   "id": "03604bd6",
   "metadata": {},
   "outputs": [],
   "source": [
    "# Read pickle\n",
    "xgb_val = read_pickle(path, 'xgb_val_model')"
   ]
  },
  {
   "cell_type": "code",
   "execution_count": 47,
   "id": "3a342301",
   "metadata": {},
   "outputs": [
    {
     "data": {
      "text/plain": [
       "{'learning_rate': 0.2,\n",
       " 'max_depth': 4,\n",
       " 'min_child_weight': 5,\n",
       " 'n_estimators': 100}"
      ]
     },
     "execution_count": 47,
     "metadata": {},
     "output_type": "execute_result"
    }
   ],
   "source": [
    "xgb_val.best_params_"
   ]
  },
  {
   "cell_type": "code",
   "execution_count": 48,
   "id": "17376d49",
   "metadata": {},
   "outputs": [
    {
     "data": {
      "text/html": [
       "<div>\n",
       "<style scoped>\n",
       "    .dataframe tbody tr th:only-of-type {\n",
       "        vertical-align: middle;\n",
       "    }\n",
       "\n",
       "    .dataframe tbody tr th {\n",
       "        vertical-align: top;\n",
       "    }\n",
       "\n",
       "    .dataframe thead th {\n",
       "        text-align: right;\n",
       "    }\n",
       "</style>\n",
       "<table border=\"1\" class=\"dataframe\">\n",
       "  <thead>\n",
       "    <tr style=\"text-align: right;\">\n",
       "      <th></th>\n",
       "      <th>Model</th>\n",
       "      <th>F1</th>\n",
       "      <th>Recall</th>\n",
       "      <th>Precision</th>\n",
       "      <th>Accuracy</th>\n",
       "    </tr>\n",
       "  </thead>\n",
       "  <tbody>\n",
       "    <tr>\n",
       "      <th>0</th>\n",
       "      <td>XGBoost Validated</td>\n",
       "      <td>0.603269</td>\n",
       "      <td>0.498771</td>\n",
       "      <td>0.763158</td>\n",
       "      <td>0.8665</td>\n",
       "    </tr>\n",
       "  </tbody>\n",
       "</table>\n",
       "</div>"
      ],
      "text/plain": [
       "               Model        F1    Recall  Precision  Accuracy\n",
       "0  XGBoost Validated  0.603269  0.498771   0.763158    0.8665"
      ]
     },
     "execution_count": 48,
     "metadata": {},
     "output_type": "execute_result"
    }
   ],
   "source": [
    "# Create model results table\n",
    "xgb_val_results = make_results('XGBoost Validated', xgb_val)\n",
    "xgb_val_results"
   ]
  },
  {
   "cell_type": "code",
   "execution_count": 49,
   "id": "71ac7d87",
   "metadata": {},
   "outputs": [
    {
     "data": {
      "text/html": [
       "<div>\n",
       "<style scoped>\n",
       "    .dataframe tbody tr th:only-of-type {\n",
       "        vertical-align: middle;\n",
       "    }\n",
       "\n",
       "    .dataframe tbody tr th {\n",
       "        vertical-align: top;\n",
       "    }\n",
       "\n",
       "    .dataframe thead th {\n",
       "        text-align: right;\n",
       "    }\n",
       "</style>\n",
       "<table border=\"1\" class=\"dataframe\">\n",
       "  <thead>\n",
       "    <tr style=\"text-align: right;\">\n",
       "      <th></th>\n",
       "      <th>Model</th>\n",
       "      <th>F1</th>\n",
       "      <th>Recall</th>\n",
       "      <th>Precision</th>\n",
       "      <th>Accuracy</th>\n",
       "    </tr>\n",
       "  </thead>\n",
       "  <tbody>\n",
       "    <tr>\n",
       "      <th>0</th>\n",
       "      <td>XGBoost Validated</td>\n",
       "      <td>0.603269</td>\n",
       "      <td>0.498771</td>\n",
       "      <td>0.763158</td>\n",
       "      <td>0.8665</td>\n",
       "    </tr>\n",
       "    <tr>\n",
       "      <th>0</th>\n",
       "      <td>Random Forest Validated</td>\n",
       "      <td>0.600302</td>\n",
       "      <td>0.488943</td>\n",
       "      <td>0.777344</td>\n",
       "      <td>0.8675</td>\n",
       "    </tr>\n",
       "    <tr>\n",
       "      <th>0</th>\n",
       "      <td>XGBoost CV</td>\n",
       "      <td>0.579869</td>\n",
       "      <td>0.475122</td>\n",
       "      <td>0.745016</td>\n",
       "      <td>0.8600</td>\n",
       "    </tr>\n",
       "    <tr>\n",
       "      <th>0</th>\n",
       "      <td>Random Forest CV</td>\n",
       "      <td>0.577116</td>\n",
       "      <td>0.459555</td>\n",
       "      <td>0.777705</td>\n",
       "      <td>0.8630</td>\n",
       "    </tr>\n",
       "  </tbody>\n",
       "</table>\n",
       "</div>"
      ],
      "text/plain": [
       "                     Model        F1    Recall  Precision  Accuracy\n",
       "0        XGBoost Validated  0.603269  0.498771   0.763158    0.8665\n",
       "0  Random Forest Validated  0.600302  0.488943   0.777344    0.8675\n",
       "0               XGBoost CV  0.579869  0.475122   0.745016    0.8600\n",
       "0         Random Forest CV  0.577116  0.459555   0.777705    0.8630"
      ]
     },
     "execution_count": 49,
     "metadata": {},
     "output_type": "execute_result"
    }
   ],
   "source": [
    "results_val = pd.concat([xgb_val_results, results_val]).sort_values(by=['F1'], \n",
    "                                                           ascending=False)\n",
    "results_val"
   ]
  },
  {
   "cell_type": "markdown",
   "id": "d1bf79a3",
   "metadata": {},
   "source": [
    "## Model selection and final results"
   ]
  },
  {
   "cell_type": "markdown",
   "id": "b08208d1",
   "metadata": {},
   "source": [
    "### Predicting on the test data"
   ]
  },
  {
   "cell_type": "markdown",
   "id": "86cc7ce2",
   "metadata": {},
   "source": [
    "We're ready to select a champion model! Based on the above table, it's clear that our XGBoost model has the top F1 score on the validation data by a small margin"
   ]
  },
  {
   "cell_type": "code",
   "execution_count": 50,
   "id": "d82ee1f0",
   "metadata": {},
   "outputs": [],
   "source": [
    "def get_test_scores(model_name:str, preds, y_test_data):\n",
    "\n",
    "    accuracy = accuracy_score(y_test_data, preds)\n",
    "    precision = precision_score(y_test_data, preds)\n",
    "    recall = recall_score(y_test_data, preds)\n",
    "    f1 = f1_score(y_test_data, preds)\n",
    "\n",
    "    table = pd.DataFrame()\n",
    "    table = table.append({'Model': model_name,\n",
    "                        'F1': f1,\n",
    "                        'Recall': recall,\n",
    "                        'Precision': precision,\n",
    "                        'Accuracy': accuracy\n",
    "                        },\n",
    "                        ignore_index=True\n",
    "                       )\n",
    "\n",
    "    return table"
   ]
  },
  {
   "cell_type": "code",
   "execution_count": 51,
   "id": "a427a986",
   "metadata": {},
   "outputs": [],
   "source": [
    "xgb_test_preds = xgb_val.best_estimator_.predict(X_test)"
   ]
  },
  {
   "cell_type": "code",
   "execution_count": 52,
   "id": "7746245a",
   "metadata": {},
   "outputs": [
    {
     "data": {
      "text/html": [
       "<div>\n",
       "<style scoped>\n",
       "    .dataframe tbody tr th:only-of-type {\n",
       "        vertical-align: middle;\n",
       "    }\n",
       "\n",
       "    .dataframe tbody tr th {\n",
       "        vertical-align: top;\n",
       "    }\n",
       "\n",
       "    .dataframe thead th {\n",
       "        text-align: right;\n",
       "    }\n",
       "</style>\n",
       "<table border=\"1\" class=\"dataframe\">\n",
       "  <thead>\n",
       "    <tr style=\"text-align: right;\">\n",
       "      <th></th>\n",
       "      <th>Model</th>\n",
       "      <th>F1</th>\n",
       "      <th>Recall</th>\n",
       "      <th>Precision</th>\n",
       "      <th>Accuracy</th>\n",
       "    </tr>\n",
       "  </thead>\n",
       "  <tbody>\n",
       "    <tr>\n",
       "      <th>0</th>\n",
       "      <td>XGB test</td>\n",
       "      <td>0.593041</td>\n",
       "      <td>0.481572</td>\n",
       "      <td>0.771654</td>\n",
       "      <td>0.8655</td>\n",
       "    </tr>\n",
       "  </tbody>\n",
       "</table>\n",
       "</div>"
      ],
      "text/plain": [
       "      Model        F1    Recall  Precision  Accuracy\n",
       "0  XGB test  0.593041  0.481572   0.771654    0.8655"
      ]
     },
     "execution_count": 52,
     "metadata": {},
     "output_type": "execute_result"
    }
   ],
   "source": [
    "xgb_test_scores = get_test_scores('XGB test', xgb_test_preds, y_test)\n",
    "xgb_test_scores"
   ]
  },
  {
   "cell_type": "code",
   "execution_count": 53,
   "id": "eee06f42",
   "metadata": {},
   "outputs": [
    {
     "data": {
      "text/html": [
       "<div>\n",
       "<style scoped>\n",
       "    .dataframe tbody tr th:only-of-type {\n",
       "        vertical-align: middle;\n",
       "    }\n",
       "\n",
       "    .dataframe tbody tr th {\n",
       "        vertical-align: top;\n",
       "    }\n",
       "\n",
       "    .dataframe thead th {\n",
       "        text-align: right;\n",
       "    }\n",
       "</style>\n",
       "<table border=\"1\" class=\"dataframe\">\n",
       "  <thead>\n",
       "    <tr style=\"text-align: right;\">\n",
       "      <th></th>\n",
       "      <th>Model</th>\n",
       "      <th>F1</th>\n",
       "      <th>Recall</th>\n",
       "      <th>Precision</th>\n",
       "      <th>Accuracy</th>\n",
       "    </tr>\n",
       "  </thead>\n",
       "  <tbody>\n",
       "    <tr>\n",
       "      <th>0</th>\n",
       "      <td>XGBoost Validated</td>\n",
       "      <td>0.603269</td>\n",
       "      <td>0.498771</td>\n",
       "      <td>0.763158</td>\n",
       "      <td>0.8665</td>\n",
       "    </tr>\n",
       "    <tr>\n",
       "      <th>0</th>\n",
       "      <td>Random Forest Validated</td>\n",
       "      <td>0.600302</td>\n",
       "      <td>0.488943</td>\n",
       "      <td>0.777344</td>\n",
       "      <td>0.8675</td>\n",
       "    </tr>\n",
       "    <tr>\n",
       "      <th>0</th>\n",
       "      <td>XGB test</td>\n",
       "      <td>0.593041</td>\n",
       "      <td>0.481572</td>\n",
       "      <td>0.771654</td>\n",
       "      <td>0.8655</td>\n",
       "    </tr>\n",
       "    <tr>\n",
       "      <th>0</th>\n",
       "      <td>XGBoost CV</td>\n",
       "      <td>0.579869</td>\n",
       "      <td>0.475122</td>\n",
       "      <td>0.745016</td>\n",
       "      <td>0.8600</td>\n",
       "    </tr>\n",
       "    <tr>\n",
       "      <th>0</th>\n",
       "      <td>Random Forest CV</td>\n",
       "      <td>0.577116</td>\n",
       "      <td>0.459555</td>\n",
       "      <td>0.777705</td>\n",
       "      <td>0.8630</td>\n",
       "    </tr>\n",
       "  </tbody>\n",
       "</table>\n",
       "</div>"
      ],
      "text/plain": [
       "                     Model        F1    Recall  Precision  Accuracy\n",
       "0        XGBoost Validated  0.603269  0.498771   0.763158    0.8665\n",
       "0  Random Forest Validated  0.600302  0.488943   0.777344    0.8675\n",
       "0                 XGB test  0.593041  0.481572   0.771654    0.8655\n",
       "0               XGBoost CV  0.579869  0.475122   0.745016    0.8600\n",
       "0         Random Forest CV  0.577116  0.459555   0.777705    0.8630"
      ]
     },
     "execution_count": 53,
     "metadata": {},
     "output_type": "execute_result"
    }
   ],
   "source": [
    "results_test = pd.concat([xgb_test_scores, results_val]).sort_values(by=['F1'], \n",
    "                                                           ascending=False)\n",
    "results_test"
   ]
  },
  {
   "cell_type": "markdown",
   "id": "207a3e23",
   "metadata": {},
   "source": [
    "### Confusion matrix"
   ]
  },
  {
   "cell_type": "code",
   "execution_count": 54,
   "id": "3fb03fac",
   "metadata": {},
   "outputs": [
    {
     "data": {
      "image/png": "[encoded data removed]",
      "text/plain": [
       "<Figure size 640x480 with 2 Axes>"
      ]
     },
     "metadata": {},
     "output_type": "display_data"
    }
   ],
   "source": [
    "cm = confusion_matrix(y_test, xgb_test_preds, labels=xgb_val.classes_)\n",
    "\n",
    "# Plot confusion matrix\n",
    "disp = ConfusionMatrixDisplay(confusion_matrix=cm,\n",
    "                             display_labels=['retained', 'churned'])\n",
    "disp.plot();"
   ]
  },
  {
   "cell_type": "markdown",
   "id": "a7e6f3c5",
   "metadata": {},
   "source": [
    "From the 2000 people in our test data, there are 407 customers who left the bank. Of those, our model captures 196. The confusion matrix indicates that, when the model makes an error, it’s usually a Type II error (211) — it gives a false negative by failing to predict that a customer will leave. On the other hand, it makes far fewer Type I errors (58), which are false positives.\n",
    "\n",
    "Ultimately, whether these results are acceptable depends on the costs of the measures taken to prevent a customer from leaving versus the value of retaining them. In this case, bank leaders may decide that they’d rather have more true positives, even if it means also capturing significantly more false positives. If so, perhaps optimizing the models based on their F1 scores is insufficient. Maybe we’d prioritize a different evaluation metric.\n",
    "\n",
    "One way to modify the decision-making without retraining the model is to adjust the threshold at which the model predicts a positive response. In other words, the model determines a probability that a given customer will churn. By default, if that probability is ≥ 0.50, then the model will label that customer as churned. Probabilities of < 0.50 would designate a non-responder. But it's possible to adjust this decision threshold. For instance, if we set the threshold to 0.25, then the model would label customers with predicted probabilities ≥ 0.25 as churned, and those with probabilities < 0.25 as not churned. This would increase the recall of the model, but decrease the accuracy.\n",
    "\n",
    "In any case, what is certain is that our model helps the bank. Consider the results if decision-makers had done nothing. In that case, they’d expect to lose 407 customers. Alternatively, they could give everybody an incentive to stay. That would cost the bank for each of the 2 000 customers in our test set. Finally, the bank could give incentives at random—say, by flipping a coin. Doing this would incentivize about the same number of true responders as our model selects. But the bank would lose a lot of money offering the incentives to people who aren’t likely to leave, and our model is very good at identifying these customers."
   ]
  },
  {
   "cell_type": "markdown",
   "id": "7d6d5795",
   "metadata": {},
   "source": [
    "### Feature importance"
   ]
  },
  {
   "cell_type": "code",
   "execution_count": 55,
   "id": "6eec1ee4",
   "metadata": {},
   "outputs": [
    {
     "data": {
      "image/png": "[encoded data removed]",
      "text/plain": [
       "<Figure size 640x480 with 1 Axes>"
      ]
     },
     "metadata": {},
     "output_type": "display_data"
    }
   ],
   "source": [
    "plot_importance(xgb_val.best_estimator_);"
   ]
  },
  {
   "cell_type": "markdown",
   "id": "fd4617d0",
   "metadata": {},
   "source": [
    "This tells us that the four most important features used by our model were CreditScore,Balance, EstimatedSalary, and Age. This is very useful information."
   ]
  },
  {
   "cell_type": "markdown",
   "id": "a65b0142",
   "metadata": {},
   "source": [
    "### Identify an optimal decision threshold"
   ]
  },
  {
   "cell_type": "code",
   "execution_count": 56,
   "id": "afcf4f12",
   "metadata": {},
   "outputs": [
    {
     "data": {
      "image/png": "[encoded data removed]",
      "text/plain": [
       "<Figure size 640x480 with 1 Axes>"
      ]
     },
     "metadata": {},
     "output_type": "display_data"
    }
   ],
   "source": [
    "display = PrecisionRecallDisplay.from_estimator(\n",
    "    xgb_val.best_estimator_, X_test, y_test, name='XGBoost'\n",
    "    )\n",
    "plt.title('Precision-recall curve, XGBoost model');"
   ]
  },
  {
   "cell_type": "code",
   "execution_count": 57,
   "id": "8b2cf9b2",
   "metadata": {},
   "outputs": [],
   "source": [
    "def threshold_finder(y_test_data, probabilities, desired_recall):\n",
    "    '''\n",
    "    Find the decision threshold that most closely yields a desired recall score.\n",
    "\n",
    "    Inputs:\n",
    "        y_test_data: Array of true y values\n",
    "        probabilities: The results of the `predict_proba()` model method\n",
    "        desired_recall: The recall that you want the model to have\n",
    "\n",
    "    Outputs:\n",
    "        threshold: The decision threshold that most closely yields the desired recall\n",
    "        recall: The exact recall score associated with `threshold`\n",
    "    '''\n",
    "    probs = [x[1] for x in probabilities]  # Isolate second column of `probabilities`\n",
    "    thresholds = np.arange(0, 1, 0.001)    # Set a grid of 1,000 thresholds to test\n",
    "\n",
    "    scores = []\n",
    "    for threshold in thresholds:\n",
    "        # Create a new array of {0, 1} predictions based on new threshold\n",
    "        preds = np.array([1 if x >= threshold else 0 for x in probs])\n",
    "        # Calculate recall score for that threshold\n",
    "        recall = recall_score(y_test_data, preds)\n",
    "        # Append the threshold and its corresponding recall score as a tuple to `scores`\n",
    "        scores.append((threshold, recall))\n",
    "\n",
    "    distances = []\n",
    "    for idx, score in enumerate(scores):\n",
    "        # Calculate how close each actual score is to the desired score\n",
    "        distance = abs(score[1] - desired_recall)\n",
    "        # Append the (index#, distance) tuple to `distances`\n",
    "        distances.append((idx, distance))\n",
    "\n",
    "    # Sort `distances` by the second value in each of its tuples (least to greatest)\n",
    "    sorted_distances = sorted(distances, key=lambda x: x[1], reverse=False)\n",
    "    # Identify the tuple with the actual recall closest to desired recall\n",
    "    best = sorted_distances[0]\n",
    "    # Isolate the index of the threshold with the closest recall score\n",
    "    best_idx = best[0]\n",
    "    # Retrieve the threshold and actual recall score closest to desired recall\n",
    "    threshold, recall = scores[best_idx]\n",
    "\n",
    "    return threshold, recall"
   ]
  },
  {
   "cell_type": "code",
   "execution_count": 58,
   "id": "126cf6f2",
   "metadata": {},
   "outputs": [
    {
     "data": {
      "text/plain": [
       "(0.255, 0.7002457002457002)"
      ]
     },
     "execution_count": 58,
     "metadata": {},
     "output_type": "execute_result"
    }
   ],
   "source": [
    "probabilities = xgb_val.best_estimator_.predict_proba(X_test)\n",
    "\n",
    "threshold_finder(y_test, probabilities, 0.7)"
   ]
  },
  {
   "cell_type": "code",
   "execution_count": 59,
   "id": "5afc2ec1",
   "metadata": {},
   "outputs": [
    {
     "data": {
      "text/html": [
       "<div>\n",
       "<style scoped>\n",
       "    .dataframe tbody tr th:only-of-type {\n",
       "        vertical-align: middle;\n",
       "    }\n",
       "\n",
       "    .dataframe tbody tr th {\n",
       "        vertical-align: top;\n",
       "    }\n",
       "\n",
       "    .dataframe thead th {\n",
       "        text-align: right;\n",
       "    }\n",
       "</style>\n",
       "<table border=\"1\" class=\"dataframe\">\n",
       "  <thead>\n",
       "    <tr style=\"text-align: right;\">\n",
       "      <th></th>\n",
       "      <th>Model</th>\n",
       "      <th>F1</th>\n",
       "      <th>Recall</th>\n",
       "      <th>Precision</th>\n",
       "      <th>Accuracy</th>\n",
       "    </tr>\n",
       "  </thead>\n",
       "  <tbody>\n",
       "    <tr>\n",
       "      <th>0</th>\n",
       "      <td>XGB, threshold = 0.255</td>\n",
       "      <td>0.610932</td>\n",
       "      <td>0.700246</td>\n",
       "      <td>0.541825</td>\n",
       "      <td>0.8185</td>\n",
       "    </tr>\n",
       "  </tbody>\n",
       "</table>\n",
       "</div>"
      ],
      "text/plain": [
       "                    Model        F1    Recall  Precision  Accuracy\n",
       "0  XGB, threshold = 0.255  0.610932  0.700246   0.541825    0.8185"
      ]
     },
     "execution_count": 59,
     "metadata": {},
     "output_type": "execute_result"
    }
   ],
   "source": [
    "probs = [x[1] for x in probabilities]\n",
    "new_preds = np.array([1 if x >= 0.255 else 0 for x in probs])\n",
    "\n",
    "# Get evaluation metrics for when the threshold is 0.255\n",
    "get_test_scores('XGB, threshold = 0.255', new_preds, y_test)"
   ]
  },
  {
   "cell_type": "code",
   "execution_count": 60,
   "id": "2d6c9871",
   "metadata": {},
   "outputs": [
    {
     "data": {
      "text/html": [
       "<div>\n",
       "<style scoped>\n",
       "    .dataframe tbody tr th:only-of-type {\n",
       "        vertical-align: middle;\n",
       "    }\n",
       "\n",
       "    .dataframe tbody tr th {\n",
       "        vertical-align: top;\n",
       "    }\n",
       "\n",
       "    .dataframe thead th {\n",
       "        text-align: right;\n",
       "    }\n",
       "</style>\n",
       "<table border=\"1\" class=\"dataframe\">\n",
       "  <thead>\n",
       "    <tr style=\"text-align: right;\">\n",
       "      <th></th>\n",
       "      <th>Model</th>\n",
       "      <th>F1</th>\n",
       "      <th>Recall</th>\n",
       "      <th>Precision</th>\n",
       "      <th>Accuracy</th>\n",
       "    </tr>\n",
       "  </thead>\n",
       "  <tbody>\n",
       "    <tr>\n",
       "      <th>0</th>\n",
       "      <td>XGBoost Validated</td>\n",
       "      <td>0.603269</td>\n",
       "      <td>0.498771</td>\n",
       "      <td>0.763158</td>\n",
       "      <td>0.8665</td>\n",
       "    </tr>\n",
       "    <tr>\n",
       "      <th>0</th>\n",
       "      <td>Random Forest Validated</td>\n",
       "      <td>0.600302</td>\n",
       "      <td>0.488943</td>\n",
       "      <td>0.777344</td>\n",
       "      <td>0.8675</td>\n",
       "    </tr>\n",
       "    <tr>\n",
       "      <th>0</th>\n",
       "      <td>XGB test</td>\n",
       "      <td>0.593041</td>\n",
       "      <td>0.481572</td>\n",
       "      <td>0.771654</td>\n",
       "      <td>0.8655</td>\n",
       "    </tr>\n",
       "    <tr>\n",
       "      <th>0</th>\n",
       "      <td>XGBoost CV</td>\n",
       "      <td>0.579869</td>\n",
       "      <td>0.475122</td>\n",
       "      <td>0.745016</td>\n",
       "      <td>0.8600</td>\n",
       "    </tr>\n",
       "    <tr>\n",
       "      <th>0</th>\n",
       "      <td>Random Forest CV</td>\n",
       "      <td>0.577116</td>\n",
       "      <td>0.459555</td>\n",
       "      <td>0.777705</td>\n",
       "      <td>0.8630</td>\n",
       "    </tr>\n",
       "  </tbody>\n",
       "</table>\n",
       "</div>"
      ],
      "text/plain": [
       "                     Model        F1    Recall  Precision  Accuracy\n",
       "0        XGBoost Validated  0.603269  0.498771   0.763158    0.8665\n",
       "0  Random Forest Validated  0.600302  0.488943   0.777344    0.8675\n",
       "0                 XGB test  0.593041  0.481572   0.771654    0.8655\n",
       "0               XGBoost CV  0.579869  0.475122   0.745016    0.8600\n",
       "0         Random Forest CV  0.577116  0.459555   0.777705    0.8630"
      ]
     },
     "execution_count": 60,
     "metadata": {},
     "output_type": "execute_result"
    }
   ],
   "source": [
    "results_test"
   ]
  },
  {
   "cell_type": "markdown",
   "id": "bd7cdfdb",
   "metadata": {},
   "source": [
    "Recall and F1 score increased significantly, while precision and accuracy decreased marginally."
   ]
  }
 ],
 "metadata": {
  "kernelspec": {
   "display_name": "Python 3 (ipykernel)",
   "language": "python",
   "name": "python3"
  },
  "language_info": {
   "codemirror_mode": {
    "name": "ipython",
    "version": 3
   },
   "file_extension": ".py",
   "mimetype": "text/x-python",
   "name": "python",
   "nbconvert_exporter": "python",
   "pygments_lexer": "ipython3",
   "version": "3.8.18"
  }
 },
 "nbformat": 4,
 "nbformat_minor": 5
}
